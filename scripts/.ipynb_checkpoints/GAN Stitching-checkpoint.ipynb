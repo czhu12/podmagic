{
 "cells": [
  {
   "cell_type": "markdown",
   "metadata": {},
   "source": [
    "# GAN for clipped audio smoothing\n",
    "\n",
    "\n",
    "##### Dataset construction\n",
    "1. Find dataset with transcribed speech and word boundaries\n",
    "2. Randomly stitch words together\n",
    "3. GAN to predict if an audio clip is stitched together or not\n",
    "\n",
    "##### Model\n",
    "1. Generator is wavenet\n",
    "2. Discriminator is FFN"
   ]
  },
  {
   "cell_type": "code",
   "execution_count": null,
   "metadata": {},
   "outputs": [],
   "source": [
    "import pytorch"
   ]
  }
 ],
 "metadata": {
  "kernelspec": {
   "display_name": "Python 3",
   "language": "python",
   "name": "python3"
  },
  "language_info": {
   "codemirror_mode": {
    "name": "ipython",
    "version": 3
   },
   "file_extension": ".py",
   "mimetype": "text/x-python",
   "name": "python",
   "nbconvert_exporter": "python",
   "pygments_lexer": "ipython3",
   "version": "3.7.3"
  }
 },
 "nbformat": 4,
 "nbformat_minor": 2
}
